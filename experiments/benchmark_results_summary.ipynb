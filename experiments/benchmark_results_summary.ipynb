{
 "cells": [
  {
   "cell_type": "code",
   "execution_count": 1,
   "metadata": {},
   "outputs": [],
   "source": [
    "import pandas as pd\n",
    "pd.set_option('display.max_columns', None)"
   ]
  },
  {
   "cell_type": "code",
   "execution_count": null,
   "metadata": {},
   "outputs": [],
   "source": [
    "ihdp_results = pd.DataFrame()\n",
    "for i in range(0, 1000):\n",
    "    df = pd.read_csv(f\"../results/ihdp_results_{i}.csv\")\n",
    "    ihdp_results = pd.concat([ihdp_results, df], ignore_index=True)\n",
    "ihdp_results.groupby('model').mean()"
   ]
  },
  {
   "cell_type": "code",
   "execution_count": null,
   "metadata": {},
   "outputs": [],
   "source": [
    "acic_results = pd.DataFrame()\n",
    "for folder in range(1, 78):\n",
    "    for i in range(0, 5):\n",
    "        df = pd.read_csv(f\"../results/acic_results_{folder}_{i}.csv\")\n",
    "        acic_results = pd.concat([acic_results, df], ignore_index=True)\n",
    "acic_results.groupby('model').mean()"
   ]
  }
 ],
 "metadata": {
  "kernelspec": {
   "display_name": "causal_inference",
   "language": "python",
   "name": "python3"
  },
  "language_info": {
   "codemirror_mode": {
    "name": "ipython",
    "version": 3
   },
   "file_extension": ".py",
   "mimetype": "text/x-python",
   "name": "python",
   "nbconvert_exporter": "python",
   "pygments_lexer": "ipython3",
   "version": "3.11.11"
  }
 },
 "nbformat": 4,
 "nbformat_minor": 2
}
